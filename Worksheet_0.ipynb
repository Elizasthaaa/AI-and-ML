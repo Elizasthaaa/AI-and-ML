{
  "nbformat": 4,
  "nbformat_minor": 0,
  "metadata": {
    "colab": {
      "provenance": []
    },
    "kernelspec": {
      "name": "python3",
      "display_name": "Python 3"
    },
    "language_info": {
      "name": "python"
    }
  },
  "cells": [
    {
      "cell_type": "markdown",
      "source": [
        "\n",
        "\n",
        "\n",
        "Exercise on Functions:"
      ],
      "metadata": {
        "id": "4CFWTzT-BYXm"
      }
    },
    {
      "cell_type": "markdown",
      "source": [
        "**Task - 1:**\n",
        "\n",
        "Create a Python program that converts between different units of measurement.\n",
        "*   The program should:\n",
        "1. Prompt the user to choose the type of conversion (e.g., length, weight, volume).\n",
        "2. Ask the user to input the value to be converted.\n",
        "3. Perform the conversion and display the result.\n",
        "4. Handle potential errors, such as invalid input or unsupported conversion types.\n",
        "*   Requirements:\n",
        "1. Functions: Define at least one function to perform the conversion.\n",
        "2. Error Handling: Use try-except blocks to handle invalid input (e.g., non-numeric values).\n",
        "3. User Input: Prompt the user to select the conversion type and input the value.\n",
        "4. Docstrings: Include a docstring in your function to describe its purpose, parameters, and return value.\n",
        "*   Conversion Options:\n",
        "1. Length:\n",
        "- Convert meters (m) to feet (ft).\n",
        "- Convert feet (ft) to meters (m).\n",
        "2. Weight:\n",
        "- Convert kilograms (kg) to pounds (lbs).\n",
        "- Convert pounds (lbs) to kilograms (kg).\n",
        "3. Volume:\n",
        "- Convert liters (L) to gallons (gal).\n",
        "- Convert gallons (gal) to liters (L).\n"
      ],
      "metadata": {
        "id": "NxevGx8jBcvH"
      }
    },
    {
      "cell_type": "code",
      "source": [
        "def length_conversion(amount, source_unit, target_unit):\n",
        "  \"\"\"\n",
        "  Converts length between meters (m) and feet (ft).\n",
        "  \"\"\"\n",
        "  unit_options = {'m', 'ft'}\n",
        "  if source_unit not in unit_options or target_unit not in unit_options:\n",
        "    raise ValueError(\"Invalid units. Choose 'm' or 'ft'.\")\n",
        "\n",
        "  if source_unit == 'm' and target_unit == 'ft':\n",
        "    return amount * 3.28084\n",
        "  elif source_unit == 'ft' and target_unit == 'm':\n",
        "    return amount / 3.28084\n",
        "  else:\n",
        "    raise ValueError(\"Invalid conversion units.\")\n",
        "\n",
        "def weight_conversion(amount, source_unit, target_unit):\n",
        "  \"\"\"\n",
        "  Converts weight between kilograms (kg) and pounds (lbs).\n",
        "  \"\"\"\n",
        "  unit_options = {'kg', 'lbs'}\n",
        "  if source_unit not in unit_options or target_unit not in unit_options:\n",
        "    raise ValueError(\"Invalid units. Choose 'kg' or 'lbs'.\")\n",
        "\n",
        "  if source_unit == 'kg' and target_unit == 'lbs':\n",
        "    return amount * 2.20462\n",
        "  elif source_unit == 'lbs' and target_unit == 'kg':\n",
        "    return amount / 2.20462\n",
        "  else:\n",
        "    raise ValueError(\"Invalid conversion units.\")\n",
        "\n",
        "def volume_conversion(amount, source_unit, target_unit):\n",
        "  \"\"\"\n",
        "  Converts volume between liters (l) and gallons (gal).\n",
        "  \"\"\"\n",
        "  unit_options = {'l', 'gal'}\n",
        "  if source_unit not in unit_options or target_unit not in unit_options:\n",
        "    raise ValueError(\"Invalid units. Choose 'l' or 'gal'.\")\n",
        "\n",
        "  if source_unit == 'l' and target_unit == 'gal':\n",
        "    return amount * 0.264172\n",
        "  elif source_unit == 'gal' and target_unit == 'l':\n",
        "    return amount / 0.264172\n",
        "  else:\n",
        "    raise ValueError(\"Invalid conversion units.\")\n",
        "\n",
        "def run_conversion():\n",
        "  \"\"\"\n",
        "  Main function for unit conversion program.\n",
        "  \"\"\"\n",
        "  while True:\n",
        "    print(\"\\nAvailable Conversion Types:\")\n",
        "    print(\"1. Length (m/ft)\")\n",
        "    print(\"2. Weight (kg/lbs)\")\n",
        "    print(\"3. Volume (l/gal)\")\n",
        "\n",
        "    try:\n",
        "      option = int(input(\"\\nEnter a number (1-3) to select conversion or 4 to quit: \"))\n",
        "\n",
        "      if option == 4:\n",
        "        print(\"Closing program.\")\n",
        "        break\n",
        "\n",
        "      if option not in [1, 2, 3]:\n",
        "        raise ValueError(\"Invalid selection. Choose a valid option.\")\n",
        "\n",
        "      while True:\n",
        "        try:\n",
        "          amount = float(input(\"Enter the numerical value to convert: \"))\n",
        "          if amount <= 0:\n",
        "            print(\"Error: Input must be a positive number.\")\n",
        "            continue\n",
        "          break\n",
        "        except ValueError:\n",
        "          print(\"Error: Enter a valid numeric value.\")\n",
        "\n",
        "      if option == 1:\n",
        "        source_unit = input(\"Enter source unit (m or ft): \").lower()\n",
        "        target_unit = input(\"Enter target unit (m or ft): \").lower()\n",
        "        output = length_conversion(amount, source_unit, target_unit)\n",
        "\n",
        "      elif option == 2:\n",
        "        source_unit = input(\"Enter source unit (kg or lbs): \").lower()\n",
        "        target_unit = input(\"Enter target unit (kg or lbs): \").lower()\n",
        "        output = weight_conversion(amount, source_unit, target_unit)\n",
        "\n",
        "      elif option == 3:\n",
        "        source_unit = input(\"Enter source unit (l or gal): \").lower()\n",
        "        target_unit = input(\"Enter target unit (l or gal): \").lower()\n",
        "        output = volume_conversion(amount, source_unit, target_unit)\n",
        "\n",
        "      print(f\"\\nConversion Result: {amount} {source_unit} is equivalent to {output:.2f} {target_unit}.\")\n",
        "    except ValueError as err:\n",
        "      print(f\"Error: {err}\")\n",
        "    except Exception as err:\n",
        "      print(f\"Unexpected issue: {err}\")\n",
        "\n",
        "run_conversion()\n"
      ],
      "metadata": {
        "colab": {
          "base_uri": "https://localhost:8080/"
        },
        "id": "ZfsxnUOI2-Ug",
        "outputId": "30be5a04-de56-410e-b9e2-3956a3af3784"
      },
      "execution_count": 2,
      "outputs": [
        {
          "output_type": "stream",
          "name": "stdout",
          "text": [
            "\n",
            "Available Conversion Types:\n",
            "1. Length (m/ft)\n",
            "2. Weight (kg/lbs)\n",
            "3. Volume (l/gal)\n",
            "\n",
            "Enter a number (1-3) to select conversion or 4 to quit: 5\n",
            "Error: Invalid selection. Choose a valid option.\n",
            "\n",
            "Available Conversion Types:\n",
            "1. Length (m/ft)\n",
            "2. Weight (kg/lbs)\n",
            "3. Volume (l/gal)\n",
            "\n",
            "Enter a number (1-3) to select conversion or 4 to quit: 3\n",
            "Enter the numerical value to convert: 200\n",
            "Enter source unit (l or gal): gal\n",
            "Enter target unit (l or gal): l\n",
            "\n",
            "Conversion Result: 200.0 gal is equivalent to 757.08 l.\n",
            "\n",
            "Available Conversion Types:\n",
            "1. Length (m/ft)\n",
            "2. Weight (kg/lbs)\n",
            "3. Volume (l/gal)\n",
            "\n",
            "Enter a number (1-3) to select conversion or 4 to quit: 2\n",
            "Enter the numerical value to convert: 165\n",
            "Enter source unit (kg or lbs): kg\n",
            "Enter target unit (kg or lbs): lbs\n",
            "\n",
            "Conversion Result: 165.0 kg is equivalent to 363.76 lbs.\n",
            "\n",
            "Available Conversion Types:\n",
            "1. Length (m/ft)\n",
            "2. Weight (kg/lbs)\n",
            "3. Volume (l/gal)\n",
            "\n",
            "Enter a number (1-3) to select conversion or 4 to quit: 1\n",
            "Enter the numerical value to convert: 440\n",
            "Enter source unit (m or ft): m\n",
            "Enter target unit (m or ft): ft\n",
            "\n",
            "Conversion Result: 440.0 m is equivalent to 1443.57 ft.\n",
            "\n",
            "Available Conversion Types:\n",
            "1. Length (m/ft)\n",
            "2. Weight (kg/lbs)\n",
            "3. Volume (l/gal)\n",
            "\n",
            "Enter a number (1-3) to select conversion or 4 to quit: a\n",
            "Error: invalid literal for int() with base 10: 'a'\n",
            "\n",
            "Available Conversion Types:\n",
            "1. Length (m/ft)\n",
            "2. Weight (kg/lbs)\n",
            "3. Volume (l/gal)\n",
            "\n",
            "Enter a number (1-3) to select conversion or 4 to quit: 4\n",
            "Closing program.\n"
          ]
        }
      ]
    },
    {
      "cell_type": "markdown",
      "source": [
        "**Task - 2:**\n",
        "\n",
        "Create a Python program that performs various mathematical operations on a list of numbers.\n",
        "*   The program should:\n",
        "1. Prompt the user to choose an operation (e.g., find the sum, average, maximum, or minimum of the numbers)\n",
        "2. Ask the user to input a list of numbers (separated by spaces).\n",
        "3. Perform the selected operation and display the result.\n",
        "4. Handle potential errors, such as invalid input or empty lists.\n",
        "*   Requirements:\n",
        "1. Functions: Define at least one function for each operation (sum, average, maximum, minimum).\n",
        "2. Error Handling: Use try-except blocks to handle invalid input (e.g., non-numeric values or empty lists).\n",
        "3. User Input: Prompt the user to select the operation and input the list of numbers.\n",
        "4. Docstrings: Include a docstring in each function to describe its purpose, parameters, and\n",
        "return value."
      ],
      "metadata": {
        "id": "J2op_fq13fZX"
      }
    },
    {
      "cell_type": "code",
      "source": [
        "def sum_numbers(nums):\n",
        "  \"\"\"\n",
        "  This function calculates the total sum of elements in a given list.\n",
        "\n",
        "  Arguments:\n",
        "  nums (list): A collection of numerical values\n",
        "\n",
        "  Returns:\n",
        "  float: The computed sum of all elements in the list\n",
        "  \"\"\"\n",
        "  return sum(nums)\n",
        "\n",
        "def compute_average(nums):\n",
        "  \"\"\"\n",
        "  This function determines the average (mean) of numbers in a list.\n",
        "\n",
        "  Arguments:\n",
        "  nums (list): A collection of numerical values\n",
        "\n",
        "  Returns:\n",
        "  float: The calculated mean of the provided numbers\n",
        "  \"\"\"\n",
        "  return sum(nums) / len(nums)\n",
        "\n",
        "def find_largest(nums):\n",
        "  \"\"\"\n",
        "  This function identifies the highest value in a given list.\n",
        "\n",
        "  Arguments:\n",
        "  nums (list): A collection of numerical values\n",
        "\n",
        "  Returns:\n",
        "  float: The largest number present in the list\n",
        "  \"\"\"\n",
        "  return max(nums)\n",
        "\n",
        "def find_smallest(nums):\n",
        "  \"\"\"\n",
        "  This function identifies the lowest value in a given list.\n",
        "\n",
        "  Arguments:\n",
        "  nums (list): A collection of numerical values\n",
        "\n",
        "  Returns:\n",
        "  float: The smallest number present in the list\n",
        "  \"\"\"\n",
        "  return min(nums)\n",
        "\n",
        "def main():\n",
        "  \"\"\"\n",
        "  Primary function enabling users to select a mathematical operation and input data.\n",
        "  Executes the selected operation and presents the outcome.\n",
        "  Incorporates error handling for incorrect inputs and empty lists.\n",
        "  \"\"\"\n",
        "  while True:\n",
        "    print(\"\\nAvailable Operations:\")\n",
        "    print(\"1. Calculate Total Sum\")\n",
        "    print(\"2. Compute Average\")\n",
        "    print(\"3. Identify Maximum Value\")\n",
        "    print(\"4. Identify Minimum Value\")\n",
        "\n",
        "    try:\n",
        "      option = int(input(\"Select an operation or enter 5 to exit: \"))\n",
        "\n",
        "      if option == 5:\n",
        "        print(\"Terminating the program.\")\n",
        "        break\n",
        "\n",
        "      if option not in [1, 2, 3, 4]:\n",
        "        print(\"Invalid choice. Kindly pick a valid option.\")\n",
        "        continue\n",
        "\n",
        "      input_values = input(\"Provide numbers separated by spaces: \")\n",
        "      num_list = [float(num) for num in input_values.split()]\n",
        "\n",
        "      if not num_list:\n",
        "        print(\"Error: At least one number is required.\")\n",
        "        continue\n",
        "\n",
        "      if option == 1:\n",
        "        result = sum_numbers(num_list)\n",
        "        print(f\"\\nTotal Sum: {result}\")\n",
        "      elif option == 2:\n",
        "        result = compute_average(num_list)\n",
        "        print(f\"\\nAverage: {result}\")\n",
        "      elif option == 3:\n",
        "        result = find_largest(num_list)\n",
        "        print(f\"\\nMaximum Value: {result}\")\n",
        "      elif option == 4:\n",
        "        result = find_smallest(num_list)\n",
        "        print(f\"\\nMinimum Value: {result}\")\n",
        "\n",
        "    except ValueError:\n",
        "      print(\"Error: Ensure you input valid numerical data.\")\n",
        "    except Exception as e:\n",
        "      print(f\"Unexpected issue encountered: {e}\")\n",
        "\n",
        "main()\n"
      ],
      "metadata": {
        "colab": {
          "base_uri": "https://localhost:8080/"
        },
        "id": "8CgKojcU5AZ1",
        "outputId": "094f0d9e-6e71-407c-a545-4d8b413bc6c1"
      },
      "execution_count": 3,
      "outputs": [
        {
          "output_type": "stream",
          "name": "stdout",
          "text": [
            "\n",
            "Available Operations:\n",
            "1. Calculate Total Sum\n",
            "2. Compute Average\n",
            "3. Identify Maximum Value\n",
            "4. Identify Minimum Value\n",
            "Select an operation or enter 5 to exit: 9\n",
            "Invalid choice. Kindly pick a valid option.\n",
            "\n",
            "Available Operations:\n",
            "1. Calculate Total Sum\n",
            "2. Compute Average\n",
            "3. Identify Maximum Value\n",
            "4. Identify Minimum Value\n",
            "Select an operation or enter 5 to exit: 1\n",
            "Provide numbers separated by spaces: \n",
            "Error: At least one number is required.\n",
            "\n",
            "Available Operations:\n",
            "1. Calculate Total Sum\n",
            "2. Compute Average\n",
            "3. Identify Maximum Value\n",
            "4. Identify Minimum Value\n",
            "Select an operation or enter 5 to exit: 1\n",
            "Provide numbers separated by spaces: 3 5 1 4 6\n",
            "\n",
            "Total Sum: 19.0\n",
            "\n",
            "Available Operations:\n",
            "1. Calculate Total Sum\n",
            "2. Compute Average\n",
            "3. Identify Maximum Value\n",
            "4. Identify Minimum Value\n",
            "Select an operation or enter 5 to exit: 2\n",
            "Provide numbers separated by spaces: 2 4 6 8 12\n",
            "\n",
            "Average: 6.4\n",
            "\n",
            "Available Operations:\n",
            "1. Calculate Total Sum\n",
            "2. Compute Average\n",
            "3. Identify Maximum Value\n",
            "4. Identify Minimum Value\n",
            "Select an operation or enter 5 to exit: 3\n",
            "Provide numbers separated by spaces: 9 8 1 3 0\n",
            "\n",
            "Maximum Value: 9.0\n",
            "\n",
            "Available Operations:\n",
            "1. Calculate Total Sum\n",
            "2. Compute Average\n",
            "3. Identify Maximum Value\n",
            "4. Identify Minimum Value\n",
            "Select an operation or enter 5 to exit: 4\n",
            "Provide numbers separated by spaces: 8 6 4 4 0\n",
            "\n",
            "Minimum Value: 0.0\n",
            "\n",
            "Available Operations:\n",
            "1. Calculate Total Sum\n",
            "2. Compute Average\n",
            "3. Identify Maximum Value\n",
            "4. Identify Minimum Value\n",
            "Select an operation or enter 5 to exit: 5\n",
            "Terminating the program.\n"
          ]
        }
      ]
    },
    {
      "cell_type": "markdown",
      "source": [
        "Exercise on list manipulation"
      ],
      "metadata": {
        "id": "DH1wX9gWIN_9"
      }
    },
    {
      "cell_type": "markdown",
      "source": [
        "1. Extract Every Other Element:\n",
        "\n",
        "  Write a Python function that extracts every other element from a list, starting from the first element.\n",
        "\n",
        "  Requirements:\n",
        "- Define a function extract every other(lst) that takes a list lst as input and returns a\n",
        "new list containing every other element from the original list.\n",
        "- Example: For the input [1, 2, 3, 4, 5, 6], the output should be [1, 3, 5].\n"
      ],
      "metadata": {
        "id": "3jw6kuMEIcPa"
      }
    },
    {
      "cell_type": "code",
      "source": [
        "def every_other(num_list):\n",
        "  return num_list[::2]\n",
        "\n",
        "nums = [1, 2, 3, 4, 5, 6]\n",
        "result = every_other(nums)\n",
        "print(f\"Every other elements of the list:\\n{result}\")\n"
      ],
      "metadata": {
        "colab": {
          "base_uri": "https://localhost:8080/"
        },
        "id": "6ay1DaX78O2c",
        "outputId": "4ce8d149-1d54-4476-b879-318d8a0fbd7e"
      },
      "execution_count": 4,
      "outputs": [
        {
          "output_type": "stream",
          "name": "stdout",
          "text": [
            "Alternate elements:\n",
            "[1, 3, 5]\n"
          ]
        }
      ]
    },
    {
      "cell_type": "markdown",
      "source": [
        "2. Slice a Sublist:\n",
        "\n",
        "  Write a Python function that returns a sublist from a given list, starting from a specified index and ending at another specified index.\n",
        "\n",
        "  Requirements:\n",
        "- Define a function get sublist(lst, start, end) that takes a list lst, a starting index start, and an ending index end as input and returns the sublist from start to end (inclusive).\n",
        "- Example: For the input [1, 2, 3, 4, 5, 6] with start=2 and end=4, the output should be [3, 4, 5]."
      ],
      "metadata": {
        "id": "GNWohjlNIymw"
      }
    },
    {
      "cell_type": "code",
      "source": [
        "def slice_list(items, start_idx, end_idx):\n",
        "  return items[start_idx:end_idx+1]\n",
        "\n",
        "numbers = [1, 2, 3, 4, 5, 6]\n",
        "part = slice_list(numbers, 2, 4)\n",
        "print(f\"Selected portion from index 2 to 4:\\n{part}\")\n"
      ],
      "metadata": {
        "id": "q1IDpKbi89Sy",
        "colab": {
          "base_uri": "https://localhost:8080/"
        },
        "outputId": "fa5b92dd-7226-4f50-862e-3a25abceeb2f"
      },
      "execution_count": 6,
      "outputs": [
        {
          "output_type": "stream",
          "name": "stdout",
          "text": [
            "Selected portion from index 2 to 4:\n",
            "[3, 4, 5]\n"
          ]
        }
      ]
    },
    {
      "cell_type": "markdown",
      "source": [
        "3. Reverse a List Using Slicing:\n",
        "\n",
        "  Write a Python function that reverses a list using slicing.\n",
        "\n",
        "  Requirements:\n",
        "- Define a function reverse list(lst) that takes a list lst and returns a reversed list using slicing.\n",
        "- Example: For the input [1, 2, 3, 4, 5], the output should be [5, 4, 3, 2, 1]."
      ],
      "metadata": {
        "id": "9xdvXl8jJ0qZ"
      }
    },
    {
      "cell_type": "code",
      "source": [
        "def reverse_elements(elements):\n",
        "  return elements[::-1]\n",
        "\n",
        "data = [1, 2, 3, 4, 5]\n",
        "reversed_data = reverse_elements(data)\n",
        "print(f\"Reversed version of the list:\\n{reversed_data}\")\n"
      ],
      "metadata": {
        "colab": {
          "base_uri": "https://localhost:8080/"
        },
        "id": "2Wu1diiI9tGz",
        "outputId": "54df1b26-155e-4b88-cb04-9183af8fae59"
      },
      "execution_count": 7,
      "outputs": [
        {
          "output_type": "stream",
          "name": "stdout",
          "text": [
            "Reversed version of the list:\n",
            "[5, 4, 3, 2, 1]\n"
          ]
        }
      ]
    },
    {
      "cell_type": "markdown",
      "source": [
        "4. Remove the First and Last Elements:\n",
        "\n",
        "  Write a Python function that removes the first and last elements of a list and returns the resulting sublist.\n",
        "\n",
        "  Requirements:\n",
        "- Define a function remove first last(lst) that takes a list lst and returns a sublist without\n",
        "the first and last elements using slicing.\n",
        "- Example: For the input [1, 2, 3, 4, 5], the output should be [2, 3, 4]."
      ],
      "metadata": {
        "id": "qGuFNb9uKI2u"
      }
    },
    {
      "cell_type": "code",
      "source": [
        "def remove_first_last(lst):\n",
        "  return lst[1:-1]\n",
        "\n",
        "input_list = [1, 2, 3, 4, 5]\n",
        "sublist = remove_first_last(input_list)\n",
        "print(f\"List after removing first and last elements:\\n{sublist}\")"
      ],
      "metadata": {
        "id": "pxG0mm4891R1",
        "colab": {
          "base_uri": "https://localhost:8080/"
        },
        "outputId": "2316113c-a63f-445f-e2d3-dc2d67296277"
      },
      "execution_count": 8,
      "outputs": [
        {
          "output_type": "stream",
          "name": "stdout",
          "text": [
            "List after removing first and last elements:\n",
            "[2, 3, 4]\n"
          ]
        }
      ]
    },
    {
      "cell_type": "markdown",
      "source": [
        "5. Get the First n Elements:\n",
        "\n",
        "  Write a Python function that extracts the first n elements from a list.\n",
        "\n",
        "  Requirements:\n",
        "- Define a function get first n(lst, n) that takes a list lst and an integer n as input and returns the first n elements of the list using slicing.\n",
        "- Example: For the input [1, 2, 3, 4, 5] with n=3, the output should be [1, 2, 3]."
      ],
      "metadata": {
        "id": "zM42JoArKjk3"
      }
    },
    {
      "cell_type": "code",
      "source": [
        "def fetch_first_n(lst, n):\n",
        "  return lst[:n]\n",
        "\n",
        "numbers = [1, 2, 3, 4, 5]\n",
        "count = 3\n",
        "result = fetch_first_n(numbers, count)\n",
        "print(f\"First {count} elements of the list:\\n{result}\")\n"
      ],
      "metadata": {
        "colab": {
          "base_uri": "https://localhost:8080/"
        },
        "id": "FYnCkKSfKkxc",
        "outputId": "ed278665-58f2-47e9-af53-54509e61d0dd"
      },
      "execution_count": 9,
      "outputs": [
        {
          "output_type": "stream",
          "name": "stdout",
          "text": [
            "First 3 elements of the list:\n",
            "[1, 2, 3]\n"
          ]
        }
      ]
    },
    {
      "cell_type": "markdown",
      "source": [
        "6. Extract Elements from the End:\n",
        "\n",
        "  Write a Python function that extracts the last n elements of a list using slicing.\n",
        "\n",
        "  Requirements:\n",
        "- Define a function get last n(lst, n) that takes a list lst and an integer n as input and returns the last n elements of the list.\n",
        "- Example: For the input [1, 2, 3, 4, 5] with n=2, the output should be [4, 5]."
      ],
      "metadata": {
        "id": "91yLovjKKu9Z"
      }
    },
    {
      "cell_type": "code",
      "source": [
        "def last_n(lst, n):\n",
        "  return lst[-n:]\n",
        "\n",
        "numbers = [1, 2, 3, 4, 5]\n",
        "count = 2\n",
        "result = last_n(numbers, count)\n",
        "print(f\"Last {count} elements of the list:\\n{result}\")\n"
      ],
      "metadata": {
        "colab": {
          "base_uri": "https://localhost:8080/"
        },
        "id": "m9NOQsKqK0vl",
        "outputId": "65b5779d-171c-46c7-bcc4-1bd25dc3bc51"
      },
      "execution_count": 10,
      "outputs": [
        {
          "output_type": "stream",
          "name": "stdout",
          "text": [
            "Last 2 elements of the list:\n",
            "[4, 5]\n"
          ]
        }
      ]
    },
    {
      "cell_type": "markdown",
      "source": [
        "7. Extract Elements in Reverse Order:\n",
        "\n",
        "  Write a Python function that extracts a list of elements in reverse order starting from the second-to-last element and skipping one element in between.\n",
        "\n",
        "  Requirements:\n",
        "- Define a function reverse skip(lst) that takes a list lst and returns a new list containing every second element starting from the second-to-last, moving backward.\n",
        "- Example: For the input [1, 2, 3, 4, 5, 6], the output should be [5, 3, 1]."
      ],
      "metadata": {
        "id": "_DMpqb3rK83q"
      }
    },
    {
      "cell_type": "code",
      "source": [
        "def skip_reverse(lst):\n",
        "  return lst[-2::-2]\n",
        "\n",
        "numbers = [1, 2, 3, 4, 5, 6]\n",
        "result = skip_reverse(numbers)\n",
        "print(f\"Elements in reverse order:\\n{result}\")\n"
      ],
      "metadata": {
        "colab": {
          "base_uri": "https://localhost:8080/"
        },
        "id": "Yk9S1EEIK-s-",
        "outputId": "157f2d63-7d66-4fed-c3f3-c157bfad8a49"
      },
      "execution_count": 11,
      "outputs": [
        {
          "output_type": "stream",
          "name": "stdout",
          "text": [
            "Elements in reverse order:\n",
            "[5, 3, 1]\n"
          ]
        }
      ]
    },
    {
      "cell_type": "markdown",
      "source": [
        "## Exercise on Nested List:"
      ],
      "metadata": {
        "id": "-DodCm07Mrya"
      }
    },
    {
      "cell_type": "markdown",
      "source": [
        "1. Flatten a Nested List:\n",
        "\n",
        "  Write a Python function that takes a nested list and flattens it into a single list, where all the elements are in a single dimension.\n",
        "\n",
        "  Requirements:\n",
        "- Define a function flatten(lst) that takes a nested list lst and returns a flattened version of the list.\n",
        "- Example: For the input [[1, 2], [3, 4], [5]], the output should be [1, 2, 3, 4, 5]."
      ],
      "metadata": {
        "id": "4q5AX34eMvRr"
      }
    },
    {
      "cell_type": "code",
      "source": [
        "def merge_lists(lst):\n",
        "  merged = []\n",
        "  for group in lst:\n",
        "    for element in group:\n",
        "      merged.append(element)\n",
        "  return merged\n",
        "\n",
        "nested_list = [[1, 2], [3, 4], [5]]\n",
        "flat_list = merge_lists(nested_list)\n",
        "print(f\"Flattened list:\\n{flat_list}\")\n"
      ],
      "metadata": {
        "colab": {
          "base_uri": "https://localhost:8080/"
        },
        "id": "DSI1epv7Bkhe",
        "outputId": "5adc73db-dfce-4bdd-e668-f9b1a732c97a"
      },
      "execution_count": 12,
      "outputs": [
        {
          "output_type": "stream",
          "name": "stdout",
          "text": [
            "Flattened list:\n",
            "[1, 2, 3, 4, 5]\n"
          ]
        }
      ]
    },
    {
      "cell_type": "markdown",
      "source": [
        "2. Accessing Nested List Elements:\n",
        "\n",
        "  Write a Python function that extracts a specific element from a nested list given its indices.\n",
        "\n",
        "  Requirements:\n",
        "- Define a function access nested element(lst, indices) that takes a nested list lst and a list of indices indices, and returns the element at that position.\n",
        "- Example: For the input lst = [[1, 2, 3], [4, 5, 6], [7, 8, 9]] with indices = [1, 2], the output should be 6."
      ],
      "metadata": {
        "id": "QGyO2HkWNIaS"
      }
    },
    {
      "cell_type": "code",
      "source": [
        "def get_nested_value(lst, keys):\n",
        "  value = lst\n",
        "  for key in keys:\n",
        "    value = value[key]\n",
        "  return value\n",
        "\n",
        "nested_list = [[1, 2, 3], [4, 5, 6], [7, 8, 9]]\n",
        "position = [1, 2]\n",
        "result = get_nested_value(nested_list, position)\n",
        "print(f\"Value at position {position}: {result}\")\n"
      ],
      "metadata": {
        "colab": {
          "base_uri": "https://localhost:8080/"
        },
        "id": "RR_02EE2NP3Z",
        "outputId": "198a6b9f-bda8-46d9-90e2-a6328bcaf94f"
      },
      "execution_count": 13,
      "outputs": [
        {
          "output_type": "stream",
          "name": "stdout",
          "text": [
            "Value at position [1, 2]: 6\n"
          ]
        }
      ]
    },
    {
      "cell_type": "markdown",
      "source": [
        "3. Sum of All Elements in a Nested List:\n",
        "\n",
        "  Write a Python function that calculates the sum of all the numbers in a nested list (regardless of depth).\n",
        "\n",
        "  Requirements:\n",
        "- Define a function sum nested(lst) that takes a nested list lst and returns the sum of all the elements.\n",
        "- Example: For the input [[1, 2], [3, [4, 5]], 6], the output should be 21."
      ],
      "metadata": {
        "id": "IJniwW8CNjDw"
      }
    },
    {
      "cell_type": "code",
      "source": [
        "def total_sum(lst):\n",
        "  total = 0\n",
        "  for item in lst:\n",
        "    if isinstance(item, list):\n",
        "      total += total_sum(item)\n",
        "    else:\n",
        "      total += item\n",
        "  return total\n",
        "\n",
        "nested_numbers = [[1, 2], [3, [4, 5]], 6]\n",
        "sum_result = total_sum(nested_numbers)\n",
        "print(f\"Total sum of all elements: {sum_result}\")\n"
      ],
      "metadata": {
        "colab": {
          "base_uri": "https://localhost:8080/"
        },
        "id": "Q6cXbuX4NnQr",
        "outputId": "e5808247-ddc6-4676-a195-d23e2c1d0c22"
      },
      "execution_count": 14,
      "outputs": [
        {
          "output_type": "stream",
          "name": "stdout",
          "text": [
            "Total sum of all elements: 21\n"
          ]
        }
      ]
    },
    {
      "cell_type": "markdown",
      "source": [
        "4. Remove Specific Element from a Nested List:\n",
        "  \n",
        "  Write a Python function that removes all occurrences of a specific element from a nested list.\n",
        "\n",
        "  Requirements:\n",
        "- Define a function remove element(lst, elem) that removes elem from lst and returns the modified list.\n",
        "- Example: For the input lst = [[1, 2], [3, 2], [4, 5]] and elem = 2, the output should be [[1], [3], [4, 5]]."
      ],
      "metadata": {
        "id": "nC2mJwxHOF2Y"
      }
    },
    {
      "cell_type": "code",
      "source": [
        "def filter_element(lst, target):\n",
        "  updated_list = []\n",
        "  for item in lst:\n",
        "    if isinstance(item, list):\n",
        "      filtered_sublist = filter_element(item, target)\n",
        "      if filtered_sublist:\n",
        "        updated_list.append(filtered_sublist)\n",
        "    elif item != target:\n",
        "      updated_list.append(item)\n",
        "  return updated_list\n",
        "\n",
        "nested_list = [[1, 2], [3, 2], [4, 5]]\n",
        "remove_value = 2\n",
        "filtered_result = filter_element(nested_list, remove_value)\n",
        "print(f\"Updated list without {remove_value}:\\n{filtered_result}\")\n"
      ],
      "metadata": {
        "colab": {
          "base_uri": "https://localhost:8080/"
        },
        "id": "LUOFG9Z2ADrX",
        "outputId": "ab18584f-75ac-4416-b70f-3512b16c3876"
      },
      "execution_count": 15,
      "outputs": [
        {
          "output_type": "stream",
          "name": "stdout",
          "text": [
            "Updated list without 2:\n",
            "[[1], [3], [4, 5]]\n"
          ]
        }
      ]
    },
    {
      "cell_type": "markdown",
      "source": [
        "5. Find the Maximum Element in a Nested List:\n",
        "\n",
        "  Write a Python function that finds the maximum element in a nested list (regardless of depth).\n",
        "\n",
        "  Requirements:\n",
        "- Define a function find max(lst) that takes a nested list lst and returns the maximum element.\n",
        "- Example: For the input [[1, 2], [3, [4, 5]], 6], the output should be 6."
      ],
      "metadata": {
        "id": "DJcX08HEOY4n"
      }
    },
    {
      "cell_type": "code",
      "source": [
        "def get_max_value(lst):\n",
        "  highest = float('-inf')\n",
        "  for item in lst:\n",
        "    if isinstance(item, list):\n",
        "      highest = max(highest, get_max_value(item))\n",
        "    else:\n",
        "      highest = max(highest, item)\n",
        "  return highest\n",
        "\n",
        "nested_list = [[1, 2], [3, [4, 5]], 6]\n",
        "max_number = get_max_value(nested_list)\n",
        "print(f\"Largest number in the list: {max_number}\")\n"
      ],
      "metadata": {
        "colab": {
          "base_uri": "https://localhost:8080/"
        },
        "id": "VDRXEaviOnNQ",
        "outputId": "053974ab-3c5d-4501-c465-5f9a8b77f6c3"
      },
      "execution_count": 16,
      "outputs": [
        {
          "output_type": "stream",
          "name": "stdout",
          "text": [
            "Largest number in the list: 6\n"
          ]
        }
      ]
    },
    {
      "cell_type": "markdown",
      "source": [
        "6. Count Occurrences of an Element in a Nested List:\n",
        "\n",
        "  Write a Python function that counts how many times a specific element appears in a nested list.\n",
        "\n",
        "  Requirements:\n",
        "- Define a function count occurrences(lst, elem) that counts the occurrences of elem in the nested list lst.\n",
        "- Example: For the input lst = [[1, 2], [2, 3], [2, 4]] and elem = 2, the output should be 3."
      ],
      "metadata": {
        "id": "GjbajXQaOs2K"
      }
    },
    {
      "cell_type": "code",
      "source": [
        "def count_instances(lst, target):\n",
        "  total = 0\n",
        "  for item in lst:\n",
        "    if isinstance(item, list):\n",
        "      total += count_instances(item, target)\n",
        "    elif item == target:\n",
        "      total += 1\n",
        "  return total\n",
        "\n",
        "nested_list = [[1, 2], [2, 3], [2, 4]]\n",
        "search_element = 2\n",
        "occurrences = count_instances(nested_list, search_element)\n",
        "print(f\"The number {search_element} appears {occurrences} times in the list.\")\n"
      ],
      "metadata": {
        "id": "lmz1WasiD0o8",
        "colab": {
          "base_uri": "https://localhost:8080/"
        },
        "outputId": "8e69dd94-d06c-4e40-8a4b-04f977135435"
      },
      "execution_count": 17,
      "outputs": [
        {
          "output_type": "stream",
          "name": "stdout",
          "text": [
            "The number 2 appears 3 times in the list.\n"
          ]
        }
      ]
    },
    {
      "cell_type": "markdown",
      "source": [
        "7. Flatten a List of Lists of Lists:\n",
        "\n",
        "  Write a Python function that flattens a list of lists of lists into a single list, regardless of the depth.\n",
        "\n",
        "  Requirements:\n",
        "- Define a function deep flatten(lst) that takes a deeply nested list lst and returns a single flattened list.\n",
        "- Example: For the input [[[1, 2], [3, 4]], [[5, 6], [7, 8]]], the output should be [1, 2, 3, 4, 5, 6, 7, 8]."
      ],
      "metadata": {
        "id": "uLPsS1X-O4WC"
      }
    },
    {
      "cell_type": "code",
      "source": [
        "def fully_flatten(lst):\n",
        "  result = []\n",
        "  for item in lst:\n",
        "    if isinstance(item, list):\n",
        "      result.extend(fully_flatten(item))\n",
        "    else:\n",
        "      result.append(item)\n",
        "  return result\n",
        "\n",
        "nested_list = [[[1, 2], [3, 4]], [[5, 6], [7, 8]]]\n",
        "flat_list = fully_flatten(nested_list)\n",
        "print(f\"Completely flattened list:\\n{flat_list}\")\n"
      ],
      "metadata": {
        "colab": {
          "base_uri": "https://localhost:8080/"
        },
        "id": "KkmbId-XEK88",
        "outputId": "97cb8380-fa69-4379-e0b2-61669aa30c06"
      },
      "execution_count": 18,
      "outputs": [
        {
          "output_type": "stream",
          "name": "stdout",
          "text": [
            "Completely flattened list:\n",
            "[1, 2, 3, 4, 5, 6, 7, 8]\n"
          ]
        }
      ]
    },
    {
      "cell_type": "markdown",
      "source": [
        "8. Nested List Average:\n",
        "\n",
        "  Write a Python function that calculates the average of all elements in a nested list.\n",
        "\n",
        "  Requirements:\n",
        "- Define a function average nested(lst) that takes a nested list lst and returns the average of all the elements.\n",
        "- Example: For the input [[1, 2], [3, 4], [5, 6]], the output should be 3.5."
      ],
      "metadata": {
        "id": "RGx8m-tlPJRQ"
      }
    },
    {
      "cell_type": "code",
      "source": [
        "def compute_average(lst):\n",
        "  def flatten_list(lst):\n",
        "    result = []\n",
        "    for item in lst:\n",
        "      if isinstance(item, list):\n",
        "        result.extend(flatten_list(item))\n",
        "      else:\n",
        "        result.append(item)\n",
        "    return result\n",
        "\n",
        "  numbers = flatten_list(lst)\n",
        "  return sum(numbers) / len(numbers) if numbers else 0\n",
        "\n",
        "nested_list = [[1, 2], [3, 4], [5, 6]]\n",
        "avg_value = compute_average(nested_list)\n",
        "print(f\"Average value of all elements: {avg_value}\")\n"
      ],
      "metadata": {
        "id": "saOPRq7JEM2c",
        "colab": {
          "base_uri": "https://localhost:8080/"
        },
        "outputId": "935e554a-cded-4aa7-eb51-aead9589d1d4"
      },
      "execution_count": 19,
      "outputs": [
        {
          "output_type": "stream",
          "name": "stdout",
          "text": [
            "Average value of all elements: 3.5\n"
          ]
        }
      ]
    },
    {
      "cell_type": "markdown",
      "source": [
        "Basic Vector and Matrix Operation with Numpy\n"
      ],
      "metadata": {
        "id": "q6dU0ojKPX_8"
      }
    },
    {
      "cell_type": "markdown",
      "source": [
        "Problem - 1: Array Creation:"
      ],
      "metadata": {
        "id": "d3VcFsCfPZyz"
      }
    },
    {
      "cell_type": "code",
      "source": [
        "import numpy as np"
      ],
      "metadata": {
        "id": "ny1HKtTkEVhM"
      },
      "execution_count": 20,
      "outputs": []
    },
    {
      "cell_type": "markdown",
      "source": [
        "1. Initialize an empty array with size 2X2."
      ],
      "metadata": {
        "id": "dMcHoT63Pooz"
      }
    },
    {
      "cell_type": "code",
      "source": [
        "import numpy as np\n",
        "\n",
        "empty_arr = np.empty((2, 2))\n",
        "print(f\"Generated empty array:\\n{empty_arr}\")\n"
      ],
      "metadata": {
        "colab": {
          "base_uri": "https://localhost:8080/"
        },
        "id": "XE2rPkYFPsYf",
        "outputId": "6ff0791d-4f17-4912-c832-f603a0c49271"
      },
      "execution_count": 21,
      "outputs": [
        {
          "output_type": "stream",
          "name": "stdout",
          "text": [
            "Generated empty array:\n",
            "[[6.77728652e-310 0.00000000e+000]\n",
            " [4.94065646e-324 6.77733111e-310]]\n"
          ]
        }
      ]
    },
    {
      "cell_type": "markdown",
      "source": [
        "2. Initialize an all one array with size 4X2."
      ],
      "metadata": {
        "id": "VTRHzjteP3zS"
      }
    },
    {
      "cell_type": "code",
      "source": [
        "ones_arr = np.ones((4, 2))\n",
        "print(f\"Array filled with ones:\\n{ones_arr}\")\n"
      ],
      "metadata": {
        "colab": {
          "base_uri": "https://localhost:8080/"
        },
        "id": "wgYJogzhP8VL",
        "outputId": "f2e0680e-14ac-44d0-bb32-8d121691ae71"
      },
      "execution_count": 22,
      "outputs": [
        {
          "output_type": "stream",
          "name": "stdout",
          "text": [
            "Array filled with ones:\n",
            "[[1. 1.]\n",
            " [1. 1.]\n",
            " [1. 1.]\n",
            " [1. 1.]]\n"
          ]
        }
      ]
    },
    {
      "cell_type": "markdown",
      "source": [
        "3. Return a new array of given shape and type, filled with fill value."
      ],
      "metadata": {
        "id": "1-DhZRfKQFeS"
      }
    },
    {
      "cell_type": "code",
      "source": [
        "arr = np.full((3,2), 5, dtype=int)\n",
        "print(arr)"
      ],
      "metadata": {
        "colab": {
          "base_uri": "https://localhost:8080/"
        },
        "id": "eJs1HabtQIyo",
        "outputId": "cbe9422d-02d6-488e-ecea-98e30bea270b"
      },
      "execution_count": 23,
      "outputs": [
        {
          "output_type": "stream",
          "name": "stdout",
          "text": [
            "[[5 5]\n",
            " [5 5]\n",
            " [5 5]]\n"
          ]
        }
      ]
    },
    {
      "cell_type": "markdown",
      "source": [
        "4. Return a new array of zeros with same shape and type as a given array.{Hint: np.zeros like}"
      ],
      "metadata": {
        "id": "wicGtIgSQNl9"
      }
    },
    {
      "cell_type": "code",
      "source": [
        "print(np.zeros_like(arr))"
      ],
      "metadata": {
        "colab": {
          "base_uri": "https://localhost:8080/"
        },
        "id": "pzPBchX5QSfP",
        "outputId": "1cad85ec-2a71-4b43-df1d-9bc2fcfc5b29"
      },
      "execution_count": 24,
      "outputs": [
        {
          "output_type": "stream",
          "name": "stdout",
          "text": [
            "[[0 0]\n",
            " [0 0]\n",
            " [0 0]]\n"
          ]
        }
      ]
    },
    {
      "cell_type": "markdown",
      "source": [
        "5. Return a new array of ones with same shape and type as a given array.{Hint: np.ones like}"
      ],
      "metadata": {
        "id": "6qb84mMpQVps"
      }
    },
    {
      "cell_type": "code",
      "source": [
        "print(np.ones_like(arr))"
      ],
      "metadata": {
        "id": "yd1gY5soQX7L"
      },
      "execution_count": null,
      "outputs": []
    },
    {
      "cell_type": "markdown",
      "source": [
        "6. For an existing list new_list = [1,2,3,4] convert to an numpy array.{Hint: np.array()}"
      ],
      "metadata": {
        "id": "vbPjiAh7Qe_2"
      }
    },
    {
      "cell_type": "code",
      "source": [
        "new_list = [1, 2, 3, 4]\n",
        "new_arr = np.array(new_list)\n",
        "\n",
        "print(f\"Numpy Array: {new_arr}\")\n",
        "print(f\"Data Type: {type(new_arr)}\")"
      ],
      "metadata": {
        "colab": {
          "base_uri": "https://localhost:8080/"
        },
        "id": "vjrae0D5QihI",
        "outputId": "86ae7cc3-6b96-445b-9034-c09eb42f4a0d"
      },
      "execution_count": 25,
      "outputs": [
        {
          "output_type": "stream",
          "name": "stdout",
          "text": [
            "Numpy Array: [1 2 3 4]\n",
            "Data Type: <class 'numpy.ndarray'>\n"
          ]
        }
      ]
    },
    {
      "cell_type": "markdown",
      "source": [
        "### Problem - 2: Array Manipulation: Numerical Ranges and Array indexing:"
      ],
      "metadata": {
        "id": "t0XzYFvFQq6l"
      }
    },
    {
      "cell_type": "markdown",
      "source": [
        "1. Create an array with values ranging from 10 to 49. {Hint:np.arrange()}."
      ],
      "metadata": {
        "id": "zCYeCZs2QtSt"
      }
    },
    {
      "cell_type": "code",
      "source": [
        "print(f\"Array with values from 10 to 49:\\n{np.arange(10, 49)}\")"
      ],
      "metadata": {
        "colab": {
          "base_uri": "https://localhost:8080/"
        },
        "id": "WXqeWZXcQ1b8",
        "outputId": "f04bf1ba-bf5c-45e0-dc3d-0b6664dba9db"
      },
      "execution_count": 26,
      "outputs": [
        {
          "output_type": "stream",
          "name": "stdout",
          "text": [
            "Array with values from 10 to 49:\n",
            "[10 11 12 13 14 15 16 17 18 19 20 21 22 23 24 25 26 27 28 29 30 31 32 33\n",
            " 34 35 36 37 38 39 40 41 42 43 44 45 46 47 48]\n"
          ]
        }
      ]
    },
    {
      "cell_type": "markdown",
      "source": [
        "2. Create a 3X3 matrix with values ranging from 0 to 8. {Hint:look for np.reshape()}"
      ],
      "metadata": {
        "id": "iXJufo5iQ6s_"
      }
    },
    {
      "cell_type": "code",
      "source": [
        "array = np.arange(9)\n",
        "matrix = np.reshape(array, (3, 3))\n",
        "\n",
        "print(f\"3×3 Matrix with values from 0 to 8:\\n{matrix}\")"
      ],
      "metadata": {
        "colab": {
          "base_uri": "https://localhost:8080/"
        },
        "id": "jIvlwXMkRAdF",
        "outputId": "b5264029-7e3f-4630-a42e-164880c78bb4"
      },
      "execution_count": 27,
      "outputs": [
        {
          "output_type": "stream",
          "name": "stdout",
          "text": [
            "3×3 Matrix with values from 0 to 8:\n",
            "[[0 1 2]\n",
            " [3 4 5]\n",
            " [6 7 8]]\n"
          ]
        }
      ]
    },
    {
      "cell_type": "markdown",
      "source": [
        "3. Create a 3X3 identity matrix.{Hint:np.eye()}"
      ],
      "metadata": {
        "id": "idJOuKMVREWE"
      }
    },
    {
      "cell_type": "code",
      "source": [
        "identity = np.eye(3, dtype=int)\n",
        "print(f\"3X3 identity matrix:\\n{identity}\")"
      ],
      "metadata": {
        "colab": {
          "base_uri": "https://localhost:8080/"
        },
        "id": "Z0Wokh5CRG8F",
        "outputId": "0f183f33-3b19-4321-f7ff-4105760808a0"
      },
      "execution_count": 28,
      "outputs": [
        {
          "output_type": "stream",
          "name": "stdout",
          "text": [
            "3X3 identity matrix:\n",
            "[[1 0 0]\n",
            " [0 1 0]\n",
            " [0 0 1]]\n"
          ]
        }
      ]
    },
    {
      "cell_type": "markdown",
      "source": [
        "4. Create a random array of size 30 and find the mean of the array.\n",
        "{Hint:check for np.random.random() and array.mean() function}"
      ],
      "metadata": {
        "id": "Ws_dRtiURJ9v"
      }
    },
    {
      "cell_type": "code",
      "source": [
        "random_arr = np.random.random(30)\n",
        "print(f\"Random array of size 30:\\n{random_arr}\")\n",
        "mean = np.mean(random_arr)\n",
        "print(f\"\\nMean: {mean}\")"
      ],
      "metadata": {
        "id": "nycBrLBtE5zM",
        "colab": {
          "base_uri": "https://localhost:8080/"
        },
        "outputId": "60995631-caaa-44b2-f99f-51c700483137"
      },
      "execution_count": 29,
      "outputs": [
        {
          "output_type": "stream",
          "name": "stdout",
          "text": [
            "Random array of size 30:\n",
            "[0.11277932 0.32319332 0.57757484 0.87338579 0.56148223 0.67402954\n",
            " 0.66038514 0.04839576 0.93024958 0.08028735 0.9943333  0.67377018\n",
            " 0.20811639 0.24087443 0.12002131 0.64915361 0.78229436 0.27750469\n",
            " 0.91408527 0.77213609 0.18620919 0.25400392 0.17189294 0.01412106\n",
            " 0.91224882 0.57858584 0.01373047 0.11534749 0.50072708 0.70961998]\n",
            "\n",
            "Mean: 0.4643513099395803\n"
          ]
        }
      ]
    },
    {
      "cell_type": "markdown",
      "source": [
        "5. Create a 10X10 array with random values and find the minimum and maximum values."
      ],
      "metadata": {
        "id": "zhpVOtHJRP75"
      }
    },
    {
      "cell_type": "code",
      "source": [
        "random_arr1 = np.random.random((10, 10))\n",
        "print(f\"10X10 array with random values:\\n{random_arr1}\")\n",
        "print(f\"\\nMinimum value: {np.min(random_arr1)}\")\n",
        "print(f\"\\nMaximum value: {np.max(random_arr1)}\")"
      ],
      "metadata": {
        "colab": {
          "base_uri": "https://localhost:8080/"
        },
        "id": "Qlofm2RwRTIv",
        "outputId": "070bc7ab-66b4-45ba-9fc2-c2e096297a67"
      },
      "execution_count": 30,
      "outputs": [
        {
          "output_type": "stream",
          "name": "stdout",
          "text": [
            "10X10 array with random values:\n",
            "[[0.91904684 0.72348283 0.71265687 0.51949653 0.30459601 0.2506402\n",
            "  0.54680476 0.39052627 0.55652307 0.69331526]\n",
            " [0.8777355  0.54436984 0.8003569  0.73820447 0.03715625 0.18377891\n",
            "  0.1319983  0.77548508 0.74541366 0.61521599]\n",
            " [0.80429117 0.42301902 0.58790728 0.29970744 0.87009162 0.4415267\n",
            "  0.45716358 0.07590048 0.74185452 0.35002621]\n",
            " [0.87982515 0.48161187 0.9414139  0.97529623 0.05853771 0.83954805\n",
            "  0.61514824 0.45000152 0.96512473 0.72032952]\n",
            " [0.74091558 0.15559592 0.3021566  0.60747031 0.49510122 0.42912085\n",
            "  0.70251659 0.36666291 0.50348863 0.39650271]\n",
            " [0.43324094 0.33922433 0.04813495 0.0296393  0.14570852 0.54855804\n",
            "  0.3320949  0.65365776 0.9382323  0.09410724]\n",
            " [0.43734734 0.20468258 0.17551507 0.04131643 0.45930992 0.97981951\n",
            "  0.0918326  0.26771397 0.43432361 0.77237654]\n",
            " [0.01180529 0.21044419 0.72801249 0.16677625 0.36839215 0.30120916\n",
            "  0.86263796 0.49103223 0.93456693 0.35332896]\n",
            " [0.80908719 0.95646913 0.8827554  0.79187699 0.95299111 0.50448424\n",
            "  0.98548896 0.10258017 0.96712492 0.51844049]\n",
            " [0.61990744 0.39349171 0.47940942 0.73731031 0.38736237 0.38795004\n",
            "  0.14895901 0.46385596 0.47524464 0.50855418]]\n",
            "\n",
            "Minimum value: 0.011805290846424787\n",
            "\n",
            "Maximum value: 0.9854889644824836\n"
          ]
        }
      ]
    },
    {
      "cell_type": "markdown",
      "source": [
        "6. Create a zero array of size 10 and replace 5th element with 1."
      ],
      "metadata": {
        "id": "3m2Bss4zRfF5"
      }
    },
    {
      "cell_type": "code",
      "source": [
        "zeros_arr = np.zeros(10, dtype=int)\n",
        "zeros_arr[4] = 1\n",
        "print(zeros_arr)"
      ],
      "metadata": {
        "colab": {
          "base_uri": "https://localhost:8080/"
        },
        "id": "-Iyv9RpGRhEu",
        "outputId": "42dc6c62-d1cc-4116-f51c-63d88a6cf438"
      },
      "execution_count": 31,
      "outputs": [
        {
          "output_type": "stream",
          "name": "stdout",
          "text": [
            "[0 0 0 0 1 0 0 0 0 0]\n"
          ]
        }
      ]
    },
    {
      "cell_type": "markdown",
      "source": [
        "7. Reverse an array arr = [1,2,0,0,4,0]."
      ],
      "metadata": {
        "id": "LxGhmfZRRkfX"
      }
    },
    {
      "cell_type": "code",
      "source": [
        "arr = np.array([1,2,0,0,4,0])\n",
        "reversed = arr[::-1]\n",
        "print(f\"Reversed array: {reversed}\")"
      ],
      "metadata": {
        "colab": {
          "base_uri": "https://localhost:8080/"
        },
        "id": "GnisktSiRnMv",
        "outputId": "4e025f8c-52f0-4230-f8b1-34a22c7fa0e5"
      },
      "execution_count": 32,
      "outputs": [
        {
          "output_type": "stream",
          "name": "stdout",
          "text": [
            "Reversed array: [0 4 0 0 2 1]\n"
          ]
        }
      ]
    },
    {
      "cell_type": "markdown",
      "source": [
        "8. Create a 2d array with 1 on border and 0 inside."
      ],
      "metadata": {
        "id": "U7hxwVUGRsNP"
      }
    },
    {
      "cell_type": "code",
      "source": [
        "array = np.ones((7, 7), dtype=int)\n",
        "array[1:-1, 1:-1] = 0\n",
        "\n",
        "print(\"2D Array with 1 on the Border and 0 Inside:\\n\", array)"
      ],
      "metadata": {
        "colab": {
          "base_uri": "https://localhost:8080/"
        },
        "id": "0hpNEympRyn_",
        "outputId": "8fda1e03-ced7-4620-a776-e8c27f98375a"
      },
      "execution_count": 33,
      "outputs": [
        {
          "output_type": "stream",
          "name": "stdout",
          "text": [
            "2D Array with 1 on the Border and 0 Inside:\n",
            " [[1 1 1 1 1 1 1]\n",
            " [1 0 0 0 0 0 1]\n",
            " [1 0 0 0 0 0 1]\n",
            " [1 0 0 0 0 0 1]\n",
            " [1 0 0 0 0 0 1]\n",
            " [1 0 0 0 0 0 1]\n",
            " [1 1 1 1 1 1 1]]\n"
          ]
        }
      ]
    },
    {
      "cell_type": "markdown",
      "source": [
        "9. Create a 8X8 matrix and fill it with a checkerboard pattern.\n"
      ],
      "metadata": {
        "id": "fUY6RlNaR43z"
      }
    },
    {
      "cell_type": "code",
      "source": [
        "checkerboard = np.zeros((8, 8), dtype=int)\n",
        "checkerboard[1::2, ::2] = 1\n",
        "checkerboard[::2, 1::2] = 1\n",
        "\n",
        "print(\"Generated 8x8 checkerboard pattern:\\n\", checkerboard)"
      ],
      "metadata": {
        "colab": {
          "base_uri": "https://localhost:8080/"
        },
        "id": "5tv-DasASED_",
        "outputId": "c11c57b2-d26a-4dc1-98bb-86cd82e6cd09"
      },
      "execution_count": 34,
      "outputs": [
        {
          "output_type": "stream",
          "name": "stdout",
          "text": [
            "Generated 8x8 checkerboard pattern:\n",
            " [[0 1 0 1 0 1 0 1]\n",
            " [1 0 1 0 1 0 1 0]\n",
            " [0 1 0 1 0 1 0 1]\n",
            " [1 0 1 0 1 0 1 0]\n",
            " [0 1 0 1 0 1 0 1]\n",
            " [1 0 1 0 1 0 1 0]\n",
            " [0 1 0 1 0 1 0 1]\n",
            " [1 0 1 0 1 0 1 0]]\n"
          ]
        }
      ]
    },
    {
      "cell_type": "markdown",
      "source": [
        "### Problem - 3: Array Operations:\n",
        "\n",
        "For the following arrays:\n",
        "\n",
        "x = np.array([[1,2],[3,5]]) and y = np.array([[5,6],[7,8]]);\n",
        "\n",
        "v = np.array([9,10]) and w = np.array([11,12]);\n",
        "\n",
        "Complete all the task using numpy:\n"
      ],
      "metadata": {
        "id": "GVxbtXVTSQb3"
      }
    },
    {
      "cell_type": "markdown",
      "source": [
        "1. Add two array"
      ],
      "metadata": {
        "id": "Dfa48iD7SSrW"
      }
    },
    {
      "cell_type": "code",
      "source": [
        "mat1 = np.array([[1, 2], [3, 5]])\n",
        "mat2 = np.array([[5, 6], [7, 8]])\n",
        "vec1 = np.array([9, 10])\n",
        "vec2 = np.array([11, 12])\n",
        "\n",
        "print(\"Matrix Addition Result:\")\n",
        "sum_matrices = np.add(mat1, mat2)\n",
        "print(sum_matrices)\n",
        "\n",
        "print(\"\\nVector Addition Result:\")\n",
        "sum_vectors = np.add(vec1, vec2)\n",
        "print(sum_vectors)"
      ],
      "metadata": {
        "colab": {
          "base_uri": "https://localhost:8080/"
        },
        "id": "t0kY-SxdSW1v",
        "outputId": "c0b5dfdd-56fb-4fdb-9760-e7dc7c739cf7"
      },
      "execution_count": 36,
      "outputs": [
        {
          "output_type": "stream",
          "name": "stdout",
          "text": [
            "Matrix Addition Result:\n",
            "[[ 6  8]\n",
            " [10 13]]\n",
            "\n",
            "Vector Addition Result:\n",
            "[20 22]\n"
          ]
        }
      ]
    },
    {
      "cell_type": "markdown",
      "source": [
        "2. Subtract the two array."
      ],
      "metadata": {
        "id": "O1s6FbyPSoPl"
      }
    },
    {
      "cell_type": "code",
      "source": [
        "print(\"Subtraction:\")\n",
        "result_xy = np.subtract(x, y)\n",
        "print(\"Result of x - y:\\n\", result_xy)\n",
        "print(\"\")\n",
        "result_vw = np.subtract(v, w)\n",
        "print(\"Result of v - w:\\n\", result_vw)\n"
      ],
      "metadata": {
        "colab": {
          "base_uri": "https://localhost:8080/"
        },
        "id": "2_NN8XdmSusA",
        "outputId": "c98cea1e-d3df-4b1f-e145-95dcea4bb695"
      },
      "execution_count": 39,
      "outputs": [
        {
          "output_type": "stream",
          "name": "stdout",
          "text": [
            "Subtraction:\n",
            "Result of x - y:\n",
            " [[-4 -4]\n",
            " [-4 -3]]\n",
            "\n",
            "Result of v - w:\n",
            " [-2 -2]\n"
          ]
        }
      ]
    },
    {
      "cell_type": "markdown",
      "source": [
        "3. Multiply the array with any integers of your choice."
      ],
      "metadata": {
        "id": "wrxnbButS5Mv"
      }
    },
    {
      "cell_type": "code",
      "source": [
        "print(\"Multiplication:\")\n",
        "result1 = np.dot(x, 2)\n",
        "print(\"Result of multiplying x by 2:\\n\", result1)\n",
        "print(\"\")\n",
        "result2 = np.dot(y, 3)\n",
        "print(\"Result of multiplying y by 3:\\n\", result2)\n"
      ],
      "metadata": {
        "colab": {
          "base_uri": "https://localhost:8080/"
        },
        "id": "0smS0ibnTQ4D",
        "outputId": "81d641ab-530e-4a0d-ffa6-b440b8e8abca"
      },
      "execution_count": 38,
      "outputs": [
        {
          "output_type": "stream",
          "name": "stdout",
          "text": [
            "Multiplication:\n",
            "Result of multiplying x by 2:\n",
            " [[ 2  4]\n",
            " [ 6 10]]\n",
            "\n",
            "Result of multiplying y by 3:\n",
            " [[15 18]\n",
            " [21 24]]\n"
          ]
        }
      ]
    },
    {
      "cell_type": "markdown",
      "source": [
        "4. Find the square of each element of the array."
      ],
      "metadata": {
        "id": "-LWVjj6lTnHw"
      }
    },
    {
      "cell_type": "code",
      "source": [
        "print(\"Square of each element:\")\n",
        "squared_x = x ** 2\n",
        "print(\"Squared x:\\n\", squared_x)\n",
        "print(\"\")\n",
        "squared_v = v ** 2\n",
        "print(\"Squared v:\\n\", squared_v)\n"
      ],
      "metadata": {
        "colab": {
          "base_uri": "https://localhost:8080/"
        },
        "id": "nrJ0mDDRTs2S",
        "outputId": "0c7e8b27-8d47-490f-ee37-ea9a87e513f9"
      },
      "execution_count": 40,
      "outputs": [
        {
          "output_type": "stream",
          "name": "stdout",
          "text": [
            "Square of each element:\n",
            "Squared x:\n",
            " [[ 1  4]\n",
            " [ 9 25]]\n",
            "\n",
            "Squared v:\n",
            " [ 81 100]\n"
          ]
        }
      ]
    },
    {
      "cell_type": "markdown",
      "source": [
        "5. Find the dot product between: v(and)w ; x(and)v ; x(and)y.\n",
        "\n"
      ],
      "metadata": {
        "id": "W2m2gWcuT12P"
      }
    },
    {
      "cell_type": "code",
      "source": [
        "print(\"Dot Products:\")\n",
        "dot_prod_vw = np.dot(v, w)\n",
        "print(\"\\nDot product of v and w:\", dot_prod_vw)\n",
        "\n",
        "dot_prod_xv = np.dot(x, v)\n",
        "print(\"\\nDot product of x and v:\\n\", dot_prod_xv)\n",
        "\n",
        "dot_prod_xy = np.dot(x, y)\n",
        "print(\"\\nDot product of x and y:\\n\", dot_prod_xy)\n"
      ],
      "metadata": {
        "colab": {
          "base_uri": "https://localhost:8080/"
        },
        "id": "HjwAFsL_T4co",
        "outputId": "9eccb792-8cdb-4e48-db24-044c627048ab"
      },
      "execution_count": 41,
      "outputs": [
        {
          "output_type": "stream",
          "name": "stdout",
          "text": [
            "Dot Products:\n",
            "\n",
            "Dot product of v and w: 219\n",
            "\n",
            "Dot product of x and v:\n",
            " [29 77]\n",
            "\n",
            "Dot product of x and y:\n",
            " [[19 22]\n",
            " [50 58]]\n"
          ]
        }
      ]
    },
    {
      "cell_type": "markdown",
      "source": [
        "6. Concatenate x(and)y along row and Concatenate v(and)w along column. {Hint:try np.concatenate() or np.vstack() functions."
      ],
      "metadata": {
        "id": "w2h5bXjQULeZ"
      }
    },
    {
      "cell_type": "code",
      "source": [
        "print(\"Concatenating x and y along rows:\")\n",
        "concatenate_row = np.concatenate((x, y), axis=0)\n",
        "print(concatenate_row)\n",
        "\n",
        "print(\"\\nConcatenating v and w along columns:\")\n",
        "concatenate_column = np.vstack((v, w)).T\n",
        "print(concatenate_column)\n"
      ],
      "metadata": {
        "colab": {
          "base_uri": "https://localhost:8080/"
        },
        "id": "BKjcm-5nUQJ5",
        "outputId": "45cc8c20-f4c7-49ec-bd0f-e3e62a52e62f"
      },
      "execution_count": 42,
      "outputs": [
        {
          "output_type": "stream",
          "name": "stdout",
          "text": [
            "Concatenating x and y along rows:\n",
            "[[1 2]\n",
            " [3 5]\n",
            " [5 6]\n",
            " [7 8]]\n",
            "\n",
            "Concatenating v and w along columns:\n",
            "[[ 9 11]\n",
            " [10 12]]\n"
          ]
        }
      ]
    },
    {
      "cell_type": "markdown",
      "source": [
        "7. Concatenate x(and)v; if you get an error, observe and explain why did you get the error?"
      ],
      "metadata": {
        "id": "-iE2K1KCUbKC"
      }
    },
    {
      "cell_type": "code",
      "source": [
        "print(\"\\nConcatenating x and v:\")\n",
        "concatenate_xv = np.concatenate((x, v.reshape(1, -1)), axis=0)\n",
        "print(concatenate_xv)\n"
      ],
      "metadata": {
        "colab": {
          "base_uri": "https://localhost:8080/"
        },
        "id": "Gh3uf8QwUgWZ",
        "outputId": "a504347d-f67f-4844-85ef-a8930834f6d1"
      },
      "execution_count": 44,
      "outputs": [
        {
          "output_type": "stream",
          "name": "stdout",
          "text": [
            "\n",
            "Concatenating x and v:\n",
            "[[ 1  2]\n",
            " [ 3  5]\n",
            " [ 9 10]]\n"
          ]
        }
      ]
    },
    {
      "cell_type": "markdown",
      "source": [
        "### Problem - 4: Matrix Operations:\n",
        "- For the following arrays:\n",
        "\n",
        "  A = np.array([[3,4],[7,8]]) and B = np.array([[5,3],[2,1]]);\n",
        "\n",
        "  Prove following with Numpy:\n",
        "  1. Prove A.A−1 = I.\n",
        "  2. Prove AB ̸= BA.\n",
        "  3. Prove(AB)T =BTAT."
      ],
      "metadata": {
        "id": "wjlCJ31KUrqm"
      }
    },
    {
      "cell_type": "code",
      "source": [
        "A_mat = np.array([[3,4],[7,8]])\n",
        "B_mat = np.array([[5,3],[2,1]])\n",
        "\n",
        "from numpy import linalg\n",
        "\n",
        "inv_A = np.linalg.inv(A_mat)\n",
        "result = np.dot(A_mat, inv_A)\n",
        "print(f\"A * A⁻¹:\\n{np.round(result)}\")\n",
        "\n",
        "AB = np.dot(A_mat, B_mat)\n",
        "BA = np.dot(B_mat, A_mat)\n",
        "\n",
        "if np.array_equal(A_mat, B_mat):\n",
        "  print(\"\\nAB = BA\")\n",
        "else:\n",
        "  print(\"\\nAB != BA\")\n",
        "\n",
        "AT = np.transpose(A_mat)\n",
        "BT = np.transpose(B_mat)\n",
        "\n",
        "BT_AT = np.dot(BT, AT)\n",
        "AB_T = np.transpose(AB)\n",
        "\n",
        "if np.array_equal(AB_T, BT_AT):\n",
        "  print(\"\\n(AB)ᵀ = Bᵀ Aᵀ\")\n",
        "else:\n",
        "  print(\"\\n(AB)ᵀ != Bᵀ Aᵀ\")\n"
      ],
      "metadata": {
        "colab": {
          "base_uri": "https://localhost:8080/"
        },
        "id": "uKRUvt8MFQ6M",
        "outputId": "a6367c1e-4332-4bda-c754-f8dd483dc203"
      },
      "execution_count": 46,
      "outputs": [
        {
          "output_type": "stream",
          "name": "stdout",
          "text": [
            "A * A⁻¹:\n",
            "[[1. 0.]\n",
            " [0. 1.]]\n",
            "\n",
            "AB != BA\n",
            "\n",
            "(AB)ᵀ = Bᵀ Aᵀ\n"
          ]
        }
      ]
    },
    {
      "cell_type": "markdown",
      "source": [
        "- Solve the following system of Linear equation using Inverse Methods.\n",
        "\n",
        "  2x − 3y + z = −1\n",
        "\n",
        "  x − y + 2z = −3\n",
        "\n",
        "  3x + y − z = 9\n",
        "\n",
        "  {Hint: First use Numpy array to represent the equation in Matrix form. Then Solve for: AX = B}"
      ],
      "metadata": {
        "id": "Iwg3KmlnWR5m"
      }
    },
    {
      "cell_type": "code",
      "source": [
        "A = np.array([[2, -3, 1],\n",
        "              [1, -1, 2],\n",
        "              [3, 1, -1]])\n",
        "\n",
        "B = np.array([-1, -3, 9])\n",
        "\n",
        "print(\"Matrix A:\")\n",
        "print(A)\n",
        "print(\"\\nMatrix B:\")\n",
        "print(B)\n",
        "\n",
        "# Compute determinant of A\n",
        "det_A = np.linalg.det(A)\n",
        "\n",
        "# Compute adjugate matrix\n",
        "cofactor_matrix = np.zeros_like(A, dtype=float)\n",
        "\n",
        "for i in range(A.shape[0]):\n",
        "    for j in range(A.shape[1]):\n",
        "        minor = np.delete(np.delete(A, i, axis=0), j, axis=1)\n",
        "        cofactor_matrix[i, j] = ((-1) ** (i + j)) * np.linalg.det(minor)\n",
        "\n",
        "adjugate_A = cofactor_matrix.T\n",
        "\n",
        "# Compute inverse of A\n",
        "A_inverse = adjugate_A / det_A\n",
        "\n",
        "# Solve for X\n",
        "X = np.dot(A_inverse, B)\n",
        "\n",
        "print(\"\\nSolution X:\")\n",
        "print(X)\n"
      ],
      "metadata": {
        "colab": {
          "base_uri": "https://localhost:8080/"
        },
        "id": "Y-c8fHqvHp_A",
        "outputId": "0db07215-58ee-4222-e06c-b30c429b42bb"
      },
      "execution_count": 47,
      "outputs": [
        {
          "output_type": "stream",
          "name": "stdout",
          "text": [
            "Matrix A:\n",
            "[[ 2 -3  1]\n",
            " [ 1 -1  2]\n",
            " [ 3  1 -1]]\n",
            "\n",
            "Matrix B:\n",
            "[-1 -3  9]\n",
            "\n",
            "Solution X:\n",
            "[ 2.  1. -2.]\n"
          ]
        }
      ]
    },
    {
      "cell_type": "markdown",
      "source": [
        "- Now: solve the above equation using np.linalg.inv function. {Explore more about ”linalg” func- tion of Numpy}"
      ],
      "metadata": {
        "id": "EOQ8PoZJW2mr"
      }
    },
    {
      "cell_type": "code",
      "source": [
        "matrix_A = np.array([[2, -3, 1],\n",
        "                     [1, -1, 2],\n",
        "                     [3, 1, -1]])\n",
        "\n",
        "matrix_B = np.array([-1, -3, 9])\n",
        "\n",
        "inverse_A = np.linalg.inv(matrix_A)\n",
        "solution_X = np.dot(inverse_A, matrix_B)\n",
        "\n",
        "print(\"The solution vector X computed using the inverse function is:\")\n",
        "print(solution_X)\n"
      ],
      "metadata": {
        "id": "MjQnp80RG9Fw",
        "colab": {
          "base_uri": "https://localhost:8080/"
        },
        "outputId": "98f719d4-ff54-4a3b-ecdb-663a4e408b0c"
      },
      "execution_count": 48,
      "outputs": [
        {
          "output_type": "stream",
          "name": "stdout",
          "text": [
            "The solution vector X computed using the inverse function is:\n",
            "[ 2.  1. -2.]\n"
          ]
        }
      ]
    },
    {
      "cell_type": "markdown",
      "source": [
        "### Experiment: How Fast is Numpy?\n",
        "\n",
        "1. Element-wise Addition:\n",
        "- Using Python Lists, perform element-wise addition of two lists of size 1, 000, 000. Measure and Print the time taken for this operation.\n",
        "- Using Numpy Arrays, Repeat the calculation and measure and print the time taken for this operation.\n"
      ],
      "metadata": {
        "id": "RlbzYLeOXfk1"
      }
    },
    {
      "cell_type": "code",
      "source": [
        "import time\n",
        "import numpy as np\n",
        "\n",
        "# Creating large lists\n",
        "list_1 = [i for i in range(1, 1000001)]\n",
        "list_2 = [i for i in range(1000001, 2000001)]\n",
        "\n",
        "# Measuring time for list-based addition\n",
        "start_time = time.time()\n",
        "result_list = [a + b for a, b in zip(list_1, list_2)]\n",
        "end_time = time.time()\n",
        "list_execution_time = end_time - start_time\n",
        "print(f\"Time taken for element-wise addition using Python lists: {list_execution_time:.6f} seconds\")\n",
        "\n",
        "# Converting lists to NumPy arrays\n",
        "array_1 = np.array(list_1)\n",
        "array_2 = np.array(list_2)\n",
        "\n",
        "# Measuring time for NumPy array-based addition\n",
        "start_time = time.time()\n",
        "result_array = array_1 + array_2\n",
        "end_time = time.time()\n",
        "array_execution_time = end_time - start_time\n",
        "print(f\"Time taken for element-wise addition using NumPy arrays: {array_execution_time:.6f} seconds\")\n"
      ],
      "metadata": {
        "id": "NPU5TMr0HRrP",
        "colab": {
          "base_uri": "https://localhost:8080/"
        },
        "outputId": "21e492eb-0561-4b12-f251-2bdd6093bbbb"
      },
      "execution_count": 49,
      "outputs": [
        {
          "output_type": "stream",
          "name": "stdout",
          "text": [
            "Time taken for element-wise addition using Python lists: 0.127799 seconds\n",
            "Time taken for element-wise addition using NumPy arrays: 0.008366 seconds\n"
          ]
        }
      ]
    },
    {
      "cell_type": "markdown",
      "source": [
        "2. Element-wise Multiplication\n",
        "- Using Python Lists, perform element-wise multiplication of two lists of size 1,000,000. Measure and Print the time taken for this operation.\n",
        "- Using Numpy Arrays, Repeat the calculation and measure and print the time taken for this operation."
      ],
      "metadata": {
        "id": "1IhUntJlX-4v"
      }
    },
    {
      "cell_type": "code",
      "source": [
        "import time\n",
        "import numpy as np\n",
        "\n",
        "data1 = [i for i in range(1, 1000001)]\n",
        "data2 = [i for i in range(1000001, 2000001)]\n",
        "\n",
        "start_time = time.time()\n",
        "output_list = [x * y for x, y in zip(data1, data2)]\n",
        "end_time = time.time()\n",
        "list_exec_time = end_time - start_time\n",
        "print(f\"Execution time for list-based element-wise multiplication: {list_exec_time} seconds\")\n",
        "\n",
        "array_a = np.array(data1)\n",
        "array_b = np.array(data2)\n",
        "\n",
        "start_time = time.time()\n",
        "output_array = array_a * array_b\n",
        "end_time = time.time()\n",
        "array_exec_time = end_time - start_time\n",
        "print(f\"Execution time for NumPy array-based element-wise multiplication: {array_exec_time} seconds\")\n"
      ],
      "metadata": {
        "colab": {
          "base_uri": "https://localhost:8080/"
        },
        "id": "35mUwsKiYUAw",
        "outputId": "97523d17-8e9e-4d25-a471-448b780ba2af"
      },
      "execution_count": 50,
      "outputs": [
        {
          "output_type": "stream",
          "name": "stdout",
          "text": [
            "Execution time for list-based element-wise multiplication: 0.1212313175201416 seconds\n",
            "Execution time for NumPy array-based element-wise multiplication: 0.007074117660522461 seconds\n"
          ]
        }
      ]
    },
    {
      "cell_type": "markdown",
      "source": [
        "3. Dot Product\n",
        "- Using Python Lists, compute the dot product of two lists of size 1, 000, 000. Measure and Print the time taken for this operation.\n",
        "- Using Numpy Arrays, Repeat the calculation and measure and print the time taken for this operation."
      ],
      "metadata": {
        "id": "vHoMS4irYcbn"
      }
    },
    {
      "cell_type": "code",
      "source": [
        "data1 = [i for i in range(1, 1000001)]\n",
        "data2 = [i for i in range(1000001, 2000001)]\n",
        "\n",
        "start_time = time.time()\n",
        "dot_product_list = sum(x * y for x, y in zip(data1, data2))\n",
        "end_time = time.time()\n",
        "list_exec_time = end_time - start_time\n",
        "print(f\"Execution time for computing the dot product using lists: {list_exec_time} seconds\")\n",
        "\n",
        "array_a = np.array(data1)\n",
        "array_b = np.array(data2)\n",
        "\n",
        "start_time = time.time()\n",
        "dot_product_numpy = np.dot(array_a, array_b)\n",
        "end_time = time.time()\n",
        "array_exec_time = end_time - start_time\n",
        "print(f\"Execution time for computing the dot product using NumPy: {array_exec_time} seconds\")\n"
      ],
      "metadata": {
        "colab": {
          "base_uri": "https://localhost:8080/"
        },
        "id": "Ds8cJocKYnJS",
        "outputId": "9946b7f9-a5a0-405d-f850-b2a3fee202a4"
      },
      "execution_count": 51,
      "outputs": [
        {
          "output_type": "stream",
          "name": "stdout",
          "text": [
            "Execution time for computing the dot product using lists: 0.11395549774169922 seconds\n",
            "Execution time for computing the dot product using NumPy: 0.0017638206481933594 seconds\n"
          ]
        }
      ]
    },
    {
      "cell_type": "markdown",
      "source": [
        "4. Matrix Multiplication\n",
        "- Using Python lists, perform matrix multiplication of two matrices of size 1000x1000. Mea- sure and print the time taken for this operation.\n",
        "- Using NumPy arrays, perform matrix multiplication of two matrices of size 1000x1000. Measure and print the time taken for this operation."
      ],
      "metadata": {
        "id": "vAiYQSsAY2Dj"
      }
    },
    {
      "cell_type": "code",
      "source": [
        "size = 1000\n",
        "\n",
        "mat1 = [[x + y for y in range(size)] for x in range(size)]\n",
        "mat2 = [[x - y for y in range(size)] for x in range(size)]\n",
        "\n",
        "def multiply_matrices(A, B):\n",
        "    output = [[0] * size for _ in range(size)]\n",
        "    for i in range(size):\n",
        "        for j in range(size):\n",
        "            for k in range(size):\n",
        "                output[i][j] += A[i][k] * B[k][j]\n",
        "    return output\n",
        "\n",
        "start_time = time.time()\n",
        "result_list = multiply_matrices(mat1, mat2)\n",
        "end_time = time.time()\n",
        "list_exec_time = end_time - start_time\n",
        "print(f\"Execution time for matrix multiplication using lists: {list_exec_time:.6f} seconds\")\n",
        "\n",
        "array_a = np.array(mat1)\n",
        "array_b = np.array(mat2)\n",
        "\n",
        "start_time = time.time()\n",
        "result_numpy = np.dot(array_a, array_b)\n",
        "end_time = time.time()\n",
        "numpy_exec_time = end_time - start_time\n",
        "print(f\"Execution time for matrix multiplication using NumPy: {numpy_exec_time:.6f} seconds\")\n"
      ],
      "metadata": {
        "id": "HOCl6viHHZBv",
        "colab": {
          "base_uri": "https://localhost:8080/"
        },
        "outputId": "53a9b27d-7629-407c-981f-da068115951f"
      },
      "execution_count": 53,
      "outputs": [
        {
          "output_type": "stream",
          "name": "stdout",
          "text": [
            "Execution time for matrix multiplication using lists: 199.177675 seconds\n",
            "Execution time for matrix multiplication using NumPy: 1.681499 seconds\n"
          ]
        }
      ]
    }
  ]
}